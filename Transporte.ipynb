{
 "cells": [
  {
   "cell_type": "code",
   "execution_count": 3,
   "metadata": {},
   "outputs": [
    {
     "name": "stdout",
     "output_type": "stream",
     "text": [
      "Requirement already satisfied: scikit-learn in c:\\users\\pj_00\\anaconda3\\envs\\m_avanzado\\lib\\site-packages (1.4.1.post1)\n",
      "Requirement already satisfied: chardet in c:\\users\\pj_00\\anaconda3\\envs\\m_avanzado\\lib\\site-packages (5.2.0)\n",
      "Requirement already satisfied: pyproj in c:\\users\\pj_00\\anaconda3\\envs\\m_avanzado\\lib\\site-packages (3.6.1)\n",
      "Requirement already satisfied: folium in c:\\users\\pj_00\\anaconda3\\envs\\m_avanzado\\lib\\site-packages (0.16.0)\n",
      "Requirement already satisfied: numpy<2.0,>=1.19.5 in c:\\users\\pj_00\\anaconda3\\envs\\m_avanzado\\lib\\site-packages (from scikit-learn) (1.23.1)\n",
      "Requirement already satisfied: scipy>=1.6.0 in c:\\users\\pj_00\\anaconda3\\envs\\m_avanzado\\lib\\site-packages (from scikit-learn) (1.12.0)\n",
      "Requirement already satisfied: joblib>=1.2.0 in c:\\users\\pj_00\\anaconda3\\envs\\m_avanzado\\lib\\site-packages (from scikit-learn) (1.3.2)\n",
      "Requirement already satisfied: threadpoolctl>=2.0.0 in c:\\users\\pj_00\\anaconda3\\envs\\m_avanzado\\lib\\site-packages (from scikit-learn) (3.4.0)\n",
      "Requirement already satisfied: certifi in c:\\users\\pj_00\\anaconda3\\envs\\m_avanzado\\lib\\site-packages (from pyproj) (2024.2.2)\n",
      "Requirement already satisfied: branca>=0.6.0 in c:\\users\\pj_00\\anaconda3\\envs\\m_avanzado\\lib\\site-packages (from folium) (0.7.2)\n",
      "Requirement already satisfied: jinja2>=2.9 in c:\\users\\pj_00\\anaconda3\\envs\\m_avanzado\\lib\\site-packages (from folium) (3.1.4)\n",
      "Requirement already satisfied: requests in c:\\users\\pj_00\\anaconda3\\envs\\m_avanzado\\lib\\site-packages (from folium) (2.31.0)\n",
      "Requirement already satisfied: xyzservices in c:\\users\\pj_00\\anaconda3\\envs\\m_avanzado\\lib\\site-packages (from folium) (2024.6.0)\n",
      "Requirement already satisfied: MarkupSafe>=2.0 in c:\\users\\pj_00\\anaconda3\\envs\\m_avanzado\\lib\\site-packages (from jinja2>=2.9->folium) (2.1.5)\n",
      "Requirement already satisfied: charset-normalizer<4,>=2 in c:\\users\\pj_00\\anaconda3\\envs\\m_avanzado\\lib\\site-packages (from requests->folium) (3.3.2)\n",
      "Requirement already satisfied: idna<4,>=2.5 in c:\\users\\pj_00\\anaconda3\\envs\\m_avanzado\\lib\\site-packages (from requests->folium) (3.6)\n",
      "Requirement already satisfied: urllib3<3,>=1.21.1 in c:\\users\\pj_00\\anaconda3\\envs\\m_avanzado\\lib\\site-packages (from requests->folium) (2.2.1)\n"
     ]
    }
   ],
   "source": [
    "!pip install scikit-learn chardet pyproj folium"
   ]
  },
  {
   "cell_type": "code",
   "execution_count": 8,
   "metadata": {},
   "outputs": [
    {
     "name": "stdout",
     "output_type": "stream",
     "text": [
      "Precisión del modelo: 1.0\n"
     ]
    }
   ],
   "source": [
    "import pandas as pd\n",
    "import numpy as np\n",
    "from sklearn.model_selection import train_test_split\n",
    "from sklearn.tree import DecisionTreeClassifier\n",
    "from sklearn.metrics import accuracy_score\n",
    "import folium\n",
    "from folium.plugins import MarkerCluster\n",
    "from pyproj import Proj\n",
    "\n",
    "# Cargar los datos\n",
    "data = pd.read_csv('datos_madrid.csv', encoding='utf-8', encoding_errors='replace')\n",
    "\n",
    "# Preprocesar datos\n",
    "data = data.dropna()  # Eliminar filas con valores nulos\n",
    "data['fecha'] = pd.to_datetime(data['fecha'], format='%d/%m/%Y')  # Convertir fechas\n",
    "\n",
    "# Eliminar columnas de tiempo o datos no numéricos que no sean catególicos\n",
    "if 'hora' in data.columns:\n",
    "    data = data.drop(columns=['hora'])\n",
    "\n",
    "# Transformar variables categóricas a numéricas\n",
    "categorical_columns = ['distrito', 'tipo_accidente', 'tipo_vehiculo', 'tipo_persona', 'rango_edad', 'sexo', 'lesividad']\n",
    "data = pd.get_dummies(data, columns=categorical_columns)\n",
    "\n",
    "# Definir la proyección UTM para la zona específica de Madrid\n",
    "proj_utm = Proj(proj='utm', zone=30, ellps='WGS84')  # Zona 30T es típica para Madrid\n",
    "\n",
    "# Convertir coordenadas UTM a geográficas (latitud, longitud)\n",
    "lon, lat = proj_utm(data['coordenada_x_utm'].values, data['coordenada_y_utm'].values, inverse=True)\n",
    "data['latitud'] = lat\n",
    "data['longitud'] = lon\n",
    "\n",
    "# Verificar y limpiar valores no válidos\n",
    "data = data.replace([np.inf, -np.inf], np.nan).dropna(subset=['latitud', 'longitud'])\n",
    "\n",
    "# Selección de variables (solo latitud y longitud)\n",
    "X = data[['latitud', 'longitud']]\n",
    "y = np.zeros(len(data))  # Inicializamos con ceros para luego actualizar con predicciones\n",
    "\n",
    "# Dividir datos en conjunto de entrenamiento y prueba\n",
    "X_train, X_test, y_train, y_test = train_test_split(X, y, test_size=0.3, random_state=42)\n",
    "\n",
    "# Crear y entrenar el modelo\n",
    "model = DecisionTreeClassifier()\n",
    "model.fit(X_train, y_train)\n",
    "\n",
    "# Evaluar el modelo\n",
    "y_pred = model.predict(X_test)\n",
    "print(f'Precisión del modelo: {accuracy_score(y_test, y_pred)}')\n",
    "\n",
    "# Agregar las predicciones al DataFrame original\n",
    "data['probabilidad_accidente'] = model.predict(X)\n",
    "\n",
    "# Crear un mapa de Folium centrado en Madrid\n",
    "madrid_map = folium.Map(location=[40.4168, -3.7038], zoom_start=12)\n",
    "\n",
    "# Crear un grupo de marcadores con MarkerCluster\n",
    "marker_cluster = MarkerCluster().add_to(madrid_map)\n",
    "\n",
    "# Agregar marcadores para cada accidente al grupo MarkerCluster\n",
    "for index, row in data.iterrows():\n",
    "    folium.Marker(\n",
    "        location=[row['latitud'], row['longitud']],\n",
    "        popup=f\"Probabilidad de accidente: {row['probabilidad_accidente']}\"\n",
    "    ).add_to(marker_cluster)\n",
    "\n",
    "# Guardar el mapa como un archivo HTML\n",
    "madrid_map.save('mapa_accidentes_madrid.html')\n"
   ]
  }
 ],
 "metadata": {
  "kernelspec": {
   "display_name": ".venv",
   "language": "python",
   "name": "python3"
  },
  "language_info": {
   "codemirror_mode": {
    "name": "ipython",
    "version": 3
   },
   "file_extension": ".py",
   "mimetype": "text/x-python",
   "name": "python",
   "nbconvert_exporter": "python",
   "pygments_lexer": "ipython3",
   "version": "3.10.13"
  }
 },
 "nbformat": 4,
 "nbformat_minor": 2
}
